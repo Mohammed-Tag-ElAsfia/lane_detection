{
 "cells": [
  {
   "cell_type": "code",
   "execution_count": 1,
   "metadata": {
    "collapsed": false
   },
   "outputs": [
    {
     "name": "stdout",
     "output_type": "stream",
     "text": [
      "<class 'numpy.ndarray'> (540, 960, 3)\n"
     ]
    }
   ],
   "source": [
    "\"\"\"In this project, we'll learn to identify the lines on the road that identify where the\n",
    "lane is.  We'll practice first on a single image, and later apply our tools to a video \n",
    "stream (really just a series of images. \"\"\"\n",
    "\n",
    "#let's have a look at our test image called 'test.jpg'\n",
    "#note: you can run the current cell by hitting \"Shift-Enter\" \n",
    "#or the play button in the toolbar above\n",
    "import matplotlib.pyplot as plt\n",
    "import matplotlib.image as mpimg\n",
    "import numpy as np\n",
    "import cv2\n",
    "%matplotlib qt\n",
    "\n",
    "image = mpimg.imread('test.jpg')\n",
    "print(type(image), image.shape)\n",
    "plt.imshow(image)\n",
    "fig = plt.gcf()\n",
    "fig.canvas.manager.window.raise_()"
   ]
  },
  {
   "cell_type": "code",
   "execution_count": null,
   "metadata": {
    "collapsed": false
   },
   "outputs": [],
   "source": [
    "\"\"\"Have a look at the test image. With our eyes, we can easily identify the lane lines right?\n",
    "So let's brainstorm ways we might be able to identify them with an algorithm... \n",
    "what kind of features do you think\n",
    "we could use to identify the lane lines in the image?\n",
    "\n",
    "To start with, we're going to go with color as a major identifier of the lines, because they're white, and most of\n",
    "the pixels in the image are some other color.  We have our image stored in the variable 'image', which is an array \n",
    "with shape (y, x, color depth) = (540, 960, 3).  Hence this is a 540 by 960 pixel 3 color image containing values for each\n",
    "of Red, Green, and Blue (RGB).  Use the interactive matplotlib window (or whatever tools you like) to explore \n",
    "the colors of the lane lines themselves.  We'll use this to get rid of pixels in the image which do not fall \n",
    "into this range. \n",
    "\n",
    "(upon doing this exercise, we find the [R, G, B] range is something like [165, 165, 165] to [245, 245, 245])\"\"\""
   ]
  },
  {
   "cell_type": "code",
   "execution_count": 2,
   "metadata": {
    "collapsed": false
   },
   "outputs": [],
   "source": [
    "\"\"\"next we'll define a function to select only the pixels within our color range for an image\"\"\"\n",
    "\n",
    "#HERE THE STUDENT WILL DETERMINE THE COLOR RANGE BY PLAYING WITH THE TEST IMAGE IN MATPLOTLIB OR SIMILAR\n",
    "\n",
    "def color_select(image, white_low, white_high):\n",
    "    lower_white = np.array(white_low, dtype=np.uint8) #student fills in the numbers here\n",
    "    upper_white = np.array(white_high, dtype=np.uint8) #student fills in the numbers here\n",
    "    selected = cv2.inRange(image, lower_white, upper_white)\n",
    "    return selected"
   ]
  },
  {
   "cell_type": "code",
   "execution_count": 3,
   "metadata": {
    "collapsed": false
   },
   "outputs": [],
   "source": [
    "\"\"\"Now we'll operate on the image and see what we get.  We'll also start using OpenCV to look at images.  The\n",
    "result should pop up in a separate window\"\"\"\n",
    "white_low = [200, 200, 200]\n",
    "white_high = [255, 255, 255]\n",
    "cselect = color_select(image, white_low, white_high)\n",
    "plt.imshow(cselect, cmap='Greys_r')\n",
    "fig = plt.gcf()\n",
    "fig.canvas.manager.window.raise_()"
   ]
  },
  {
   "cell_type": "code",
   "execution_count": 4,
   "metadata": {
    "collapsed": false
   },
   "outputs": [],
   "source": [
    "\"\"\"Your output color selected image should look approximately like the sample color selected image.\n",
    "\n",
    "We have now drastically simplified our image to contain binary values (0 or 255), where zeros correspond to pixels\n",
    "that did not fall within the specified color range.  All the remaining pixels were similar in color to the lane lines.\n",
    "We observe that, while the lane lines themselves are clearly visible, there are still a lot of other pixels, \n",
    "particularly in the sky portion of the frame, remaining.\n",
    "\n",
    "At this point we will use to our advantage, the fact that we know the lane lines we're interested in only appear on\n",
    "the road, so we can mask out portions of the image that are not relevant to our search.  To do this, we'll define a \n",
    "couple more funtions:\"\"\"\n",
    "\n",
    "#HERE THE STUDENT WILL DETERMINE THE REGION OF INTEREST\n",
    "\n",
    "#first just a convenience function that just returns a blank image the same size as the one we're working with\n",
    "def blank(image):\n",
    "    rows,cols = image.shape[:2]\n",
    "    if len(image.shape) == 2:\n",
    "        return np.zeros((rows, cols), np.uint8)\n",
    "    else:\n",
    "        return np.zeros((rows, cols, 3), np.uint8)\n",
    "    \n",
    "#second, a function that returns the Region of Interest, which is cropped image that no longer \n",
    "#contains areas we aren't interested in.\n",
    "#in this case, we're throwing out the top 40% of the image, but keeping all the width\n",
    "\n",
    "def RegionOfInterest(image, bottomPerc, topPerc, leftPerc, rightPerc):\n",
    "    rows,cols = image.shape[:2]\n",
    "    copy = image.copy()\n",
    "    z = blank(image)\n",
    "    copy[:round(rows*topPerc),:] = z[:round(rows*topPerc),:]\n",
    "    copy[round(rows*bottomPerc):,:] = z[round(rows*bottomPerc):,:]\n",
    "    copy[:,:round(cols*leftPerc)] = z[:,:round(cols*leftPerc)]\n",
    "    copy[:,round(cols*rightPerc):] = z[:,round(cols*rightPerc):]\n",
    "    return copy"
   ]
  },
  {
   "cell_type": "code",
   "execution_count": 5,
   "metadata": {
    "collapsed": false
   },
   "outputs": [],
   "source": [
    "#lets operate on our color selected image and see what we get\n",
    "bottomPerc = 1.\n",
    "topPerc = 0.675\n",
    "leftPerc = 0.2\n",
    "rightPerc = 0.8\n",
    "focus = RegionOfInterest(cselect, bottomPerc, topPerc, leftPerc, rightPerc)\n",
    "plt.imshow(focus, cmap='Greys_r')\n",
    "fig = plt.gcf()\n",
    "fig.canvas.manager.window.raise_()"
   ]
  },
  {
   "cell_type": "code",
   "execution_count": 6,
   "metadata": {
    "collapsed": false
   },
   "outputs": [],
   "source": [
    "\"\"\"Ok, now we've got some nice lines to detect!  Next, we'll apply a Hough Transform to find lines in our \n",
    "edge-detected image.  The Hough transform can be used to detect various shapes in an image, but here we'll\n",
    "use it to detect lines (more on the 'how' to come...  We'll write another couple functions here to perform \n",
    "the Hough transform and then draw the detected lines back onto our original image.\"\"\"\n",
    "\n",
    "#HERE THE STUDENT WILL NEED TO PLAY WITH THE HOUGH TRANSFORM PARAMETERS TO GET A REASONABLE RESULT\n",
    "\n",
    "def houghLinesP(image, edges):\n",
    "    minLineLength = 25\n",
    "    maxLineGap = 10 \n",
    "    lines = cv2.HoughLinesP(edges,1,np.pi/180,10,minLineLength,maxLineGap)\n",
    "    drawLane(image, lines)\n",
    "    return lines\n",
    "    \n",
    "def drawLane(image, lines):\n",
    "    if lines is not None:\n",
    "        for line in lines:\n",
    "            for x1,y1,x2,y2 in line:\n",
    "                cv2.line(image,(x1,y1),(x2,y2),(0,0,255),10)\n",
    "    return\n",
    "\n",
    "\n",
    "hough = blank(image)\n",
    "lines = houghLinesP(hough, focus)\n",
    "lineImage = cv2.bitwise_or(image, RegionOfInterest(hough, bottomPerc, topPerc, leftPerc, rightPerc))\n",
    "plt.imshow(lineImage)\n",
    "fig = plt.gcf()\n",
    "fig.canvas.manager.window.raise_()"
   ]
  },
  {
   "cell_type": "code",
   "execution_count": 7,
   "metadata": {
    "collapsed": false
   },
   "outputs": [
    {
     "data": {
      "image/png": "[encoded data removed]",
      "text/plain": [
       "<matplotlib.figure.Figure at 0x1109894e0>"
      ]
     },
     "metadata": {},
     "output_type": "display_data"
    }
   ],
   "source": [
    "\"\"\"Ok, now we've got some nice line detections!  Clearly, some of the detections are our lane lines, but we've\n",
    "picked up some other stuff as well.  Now we need to figure out how to select lane lines only from detected lines\n",
    "and plot out the full lane on the image.  To do this let's start by investigating the slope of the lines\"\"\"\n",
    "\n",
    "#our output 'lines' from above contains the x and y endpoints of all detected lines\n",
    "#we'll use matplotlib to look at the slope distribution\n",
    "\n",
    "#HERE THE STUDENT WILL NEED TO LOOK AT THE SLOPE HISTOGRAM (OR WHATEVER ELSE THEY LIKE) AND DETERMINE A SLOPE CUTOFF\n",
    "import matplotlib.pyplot as plt\n",
    "%matplotlib inline\n",
    "\n",
    "x1,y1,x2,y2 = lines[:,0,0], lines[:,0,1], lines[:,0,2], lines[:,0,3]\n",
    "slopes = (y2-y1)/(x2-x1) #rise over run\n",
    "\n",
    "slope_hist = plt.hist(slopes)\n",
    "#note the three distinct bins in slope"
   ]
  },
  {
   "cell_type": "code",
   "execution_count": 8,
   "metadata": {
    "collapsed": false
   },
   "outputs": [],
   "source": [
    "\"\"\"Ok, so we've got slopes concentrated around 3 values, namely, around 0, and +/- 0.8.  We could investigate\n",
    "deeper, but just looking at the image we can see that most of the stuff we don't want are probably the \n",
    "concentration of slope values near 0.  So lets impose a restriction on which lines we're going to draw based\n",
    "on slope... To do this we'll redefine our drawLane function\"\"\"\n",
    "\n",
    "hiSlopeCut = 0.6 #student will change this value\n",
    "loSlopeCut = -0.4 #student will change this value\n",
    "\n",
    "def drawLane(image, lines):\n",
    "    if lines is not None:\n",
    "        for line in lines:\n",
    "            for x1,y1,x2,y2 in line:\n",
    "                rise = y2 - y1\n",
    "                run = x2 - x1\n",
    "                if run != 0:\n",
    "                    slope = float(rise / run)\n",
    "                    if slope > hiSlopeCut or slope < loSlopeCut:\n",
    "                        cv2.line(image,(x1,y1),(x2,y2),(0,0,255),10)\n",
    "    return\n",
    "\n",
    "hough = blank(image)\n",
    "lines = houghLinesP(hough, focus)\n",
    "lineImage = cv2.bitwise_or(image, RegionOfInterest(hough, bottomPerc, topPerc, leftPerc, rightPerc))\n",
    "\n",
    "%matplotlib qt\n",
    "plt.imshow(lineImage)\n",
    "fig = plt.gcf()\n",
    "fig.canvas.manager.window.raise_()"
   ]
  },
  {
   "cell_type": "code",
   "execution_count": 10,
   "metadata": {
    "collapsed": false
   },
   "outputs": [],
   "source": [
    "\"\"\"So, now we've got our lane lines identified, and we'd like to draw an estimate of where the \n",
    "lane is on the image.  To do this, fit a line to to all \n",
    "the detected line segments, and extrapolate up and \n",
    "down the road. Again, we'll redefine our \n",
    "drawLanes function\n",
    "and our houghLinesP to include one more parameter...\"\"\"\n",
    "\n",
    "#HERE I'M NOT SURE WHAT TO HAVE THE STUDENT DO, BUT MAYBE FIGURE OUT THEIR OWN WAY OF DRAWING THE LINES BETTER\n",
    "\n",
    "def drawLane(image, lines):\n",
    "    \n",
    "    midpointx = round(float(image.shape[1])/2)\n",
    "    rightX = []\n",
    "    leftX = []\n",
    "    rightY = []\n",
    "    leftY = []\n",
    "       \n",
    "    if lines is not None:\n",
    "        for line in lines:\n",
    "            for x1,y1,x2,y2 in line:\n",
    "                rise = y2 - y1\n",
    "                run = x2 - x1\n",
    "                if run != 0:\n",
    "                    slope = float(rise / run)                \n",
    "                    if slope > hiSlopeCut and x1 > midpointx and x2 > midpointx: \n",
    "                        #identifying lane line segments on the right side of the frame\n",
    "                        rightX.extend([x1, x2])\n",
    "                        rightY.extend([y1, y2])\n",
    "                    elif slope < loSlopeCut and x1 < midpointx and x2 < midpointx: \n",
    "                        #identifying lane line segments on the left side of the frame\n",
    "                        leftX.extend([x1, x2])\n",
    "                        leftY.extend([y1, y2])                   \n",
    "\n",
    "        if leftX and leftY:\n",
    "            fitLeft = np.polyfit(leftX, leftY, 1)\n",
    "            startYleft = 0\n",
    "            endYleft = image.shape[0]\n",
    "            startXleft = int((startYleft - fitLeft[1]) / fitLeft[0])\n",
    "            endXleft = int((endYleft - fitLeft[1]) / fitLeft[0])\n",
    "            cv2.line(image,(startXleft,startYleft),(endXleft,endYleft),(0,0,255),10)\n",
    "            \n",
    "        if rightX and rightY:\n",
    "            fitRight = np.polyfit(rightX, rightY, 1)\n",
    "            startYright = 0\n",
    "            endYright = image.shape[0]\n",
    "            startXright = int((startYright - fitRight[1]) / fitRight[0])\n",
    "            endXright = int((endYright - fitRight[1]) / fitRight[0])\n",
    "            cv2.line(image,(startXright,startYright),(endXright,endYright),(0,0,255),10)\n",
    "        \n",
    "        \n",
    "\n",
    "hough = blank(image)\n",
    "lines = houghLinesP(hough, focus)\n",
    "lineImage = cv2.bitwise_or(image, RegionOfInterest(hough, bottomPerc, topPerc, leftPerc, rightPerc))\n",
    "\n",
    "plt.imshow(lineImage)\n",
    "fig = plt.gcf()\n",
    "fig.canvas.manager.window.raise_()"
   ]
  },
  {
   "cell_type": "code",
   "execution_count": 11,
   "metadata": {
    "collapsed": false
   },
   "outputs": [],
   "source": [
    "\"\"\"Ok awesome!  We're mapping out the lane!  Now let's try it on a video stream. To do this, let's gather all \n",
    "the code into one place so this cell can be run independent of the rest of the notebook, or copied and pasted\n",
    "to somewhere else.  Ok gonna run the video now and see what happens!\"\"\"\n",
    "\n",
    "#HERE AGAIN, NOT SURE WHAT TO HAVE THE STUDENT DO, BUT IF THIS IS AN EVALUATED PROJECT, THEY COULD SUBMIT\n",
    "#SUGGESTIONS ABOUT HOW TO IMPROVE THE ALGORITHM.  \n",
    "# now we're going to run the whole thing\n",
    "   \n",
    "cv2.startWindowThread()\n",
    "cv2.namedWindow('Lane-Finding')\n",
    "cap = cv2.VideoCapture('Highway_Driving.mp4')\n",
    "\n",
    "while cap.isOpened():\n",
    "\n",
    "    ret, image = cap.read()\n",
    "    if image is not None:\n",
    "        cselect = color_select(image, white_low, white_high)\n",
    "        focus = RegionOfInterest(cselect, bottomPerc, topPerc, leftPerc, rightPerc)\n",
    "        hough = blank(image)\n",
    "        houghLinesP(hough, focus)\n",
    "        final = cv2.bitwise_or(image, RegionOfInterest(hough, bottomPerc, topPerc, leftPerc, rightPerc))\n",
    "        cv2.imshow('Lane-Finding',final)\n",
    "    else:\n",
    "        break\n",
    "        \n",
    "    k = cv2.waitKey(30) & 0xff\n",
    "    if k == 27 :\n",
    "        break\n",
    "\n",
    "cap.release()\n",
    "cv2.destroyAllWindows()\n",
    "# that was a demonstration of lane finding in OpenCV!"
   ]
  },
  {
   "cell_type": "code",
   "execution_count": null,
   "metadata": {
    "collapsed": false
   },
   "outputs": [],
   "source": [
    "\"\"\"Fantastic!  It kinda works!  Clearly, however, our algorithm is still a bit unstable and could use \n",
    "further improvement.  So things to think about going forward are: how can we stabilize the lane detection \n",
    "further?  Where does it fail the worst?  What will we need to take into account going forward \n",
    "with lane detection?  Pretty cool huh?  We're actually detecting lane lines!  This could work afterall\n",
    "\n",
    "Lets see if we can improve this with edge detection... and shape detection lane finding\n",
    "in opencv  This may actually work afterall!  still a bit unstable.  \"\"\""
   ]
  },
  {
   "cell_type": "code",
   "execution_count": null,
   "metadata": {
    "collapsed": false
   },
   "outputs": [],
   "source": []
  },
  {
   "cell_type": "code",
   "execution_count": null,
   "metadata": {
    "collapsed": true
   },
   "outputs": [],
   "source": []
  }
 ],
 "metadata": {
  "anaconda-cloud": {},
  "kernelspec": {
   "display_name": "Python [Root]",
   "language": "python",
   "name": "Python [Root]"
  },
  "language_info": {
   "codemirror_mode": {
    "name": "ipython",
    "version": 3
   },
   "file_extension": ".py",
   "mimetype": "text/x-python",
   "name": "python",
   "nbconvert_exporter": "python",
   "pygments_lexer": "ipython3",
   "version": "3.5.2"
  }
 },
 "nbformat": 4,
 "nbformat_minor": 0
}
