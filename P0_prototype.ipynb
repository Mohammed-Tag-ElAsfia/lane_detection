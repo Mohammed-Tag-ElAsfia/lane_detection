{
 "cells": [
  {
   "cell_type": "code",
   "execution_count": null,
   "metadata": {
    "collapsed": false
   },
   "outputs": [],
   "source": [
    "\"\"\"In this project, we'll learn to identify lane lines in a video stream.  A video stream is really just\n",
    "a bunch of images, so we'll begin by looking at just one image from the video.  We'll set up our \n",
    "algorithm by finding the lane lines in this one image, then apply it to the video.\n",
    "\n",
    "\"\"\"\n",
    "\n",
    "#let's have a look at our test image called 'test.jpg'\n",
    "import cv2\n",
    "import numpy as np\n",
    "\n",
    "image=cv2.imread('test.jpg')\n",
    "print(type(image), image.shape)\n"
   ]
  },
  {
   "cell_type": "code",
   "execution_count": null,
   "metadata": {
    "collapsed": false
   },
   "outputs": [],
   "source": [
    "\"\"\"Have a look at the test image. With our eyes, we can easily identify the lane lines right?  So let's \n",
    "brainstorm ways we might be able to identify them with an algorithm... what kind of features do you think\n",
    "we could use to identify the lane lines in the image?\n",
    "\n",
    "To start with, we're going to go with color as a major identifier of the lines, because they're white, and most of\n",
    "the pixels in the image are some other color.  We have our image stored in the variable 'image', which is a numpy\n",
    "ndarray with shape (y, x, color depth) = (540, 960, 3).  Hence this is a 3 color image containing values for each\n",
    "of Red, Green, and Blue (RGB).  Use whatever tools you like to explore the colors of the lane\n",
    "lines themselves.  We'll use this to get rid of pixels in the image which do not fall into this range.\n",
    "\n",
    "(upon doing this exercise, we find the [R, G, B] range is something like [165, 165, 165] to [245, 245, 245])\"\"\""
   ]
  },
  {
   "cell_type": "code",
   "execution_count": null,
   "metadata": {
    "collapsed": false
   },
   "outputs": [],
   "source": [
    "\"\"\"next we'll define a function to select only the pixels within our color range for an image\"\"\"\n",
    "\n",
    "#HERE THE STUDENT WILL DETERMINE THE COLOR RANGE BY PLAYING WITH THE TEST IMAGE IN MATPLOTLIB OR SIMILAR\n",
    "\n",
    "def color_select(image):\n",
    "    lower_white = np.array([165,165,165], dtype=np.uint8) #student fills in the numbers here\n",
    "    upper_white = np.array([245,245,245], dtype=np.uint8) #student fills in the numbers here\n",
    "    selected = cv2.inRange(image, lower_white, upper_white)\n",
    "    return selected"
   ]
  },
  {
   "cell_type": "code",
   "execution_count": null,
   "metadata": {
    "collapsed": false
   },
   "outputs": [],
   "source": [
    "\"\"\"Now we'll operate on the image and see what we get.  We'll also start using OpenCV to look at images.  The\n",
    "result should pop up in a separate window\"\"\"\n",
    "cselect = color_select(image)\n",
    "cv2.imwrite('color_selected.jpg', cselect)\n"
   ]
  },
  {
   "cell_type": "code",
   "execution_count": null,
   "metadata": {
    "collapsed": false
   },
   "outputs": [],
   "source": [
    "\"\"\"Your output color selected image should look approximately like the sample color selected image.\n",
    "\n",
    "We have now drastically simplified our image to contain binary values (0 or 255), where zeros correspond to pixels\n",
    "that did not fall within the specified color range.  All the remaining pixels were similar in color to the lane lines.\n",
    "We observe that, while the lane lines themselves are clearly visible, there are still a lot of other pixels, \n",
    "particularly in the sky portion of the frame, remaining.\n",
    "\n",
    "At this point we will use to our advantage, the fact that we know the lane lines we're interested in only appear on\n",
    "the road, so we can mask out portions of the image that are not relevant to our search.  To do this, we'll define a \n",
    "couple more funtions:\"\"\"\n",
    "\n",
    "#HERE THE STUDENT WILL DETERMINE THE REGION OF INTEREST\n",
    "\n",
    "#first just a convenience function that just returns a blank image the same size as the one we're working with\n",
    "def blank(image):\n",
    "    rows,cols = image.shape[:2]\n",
    "    if len(image.shape) == 2:\n",
    "        return np.zeros((rows, cols), np.uint8)\n",
    "    else:\n",
    "        return np.zeros((rows, cols, 3), np.uint8)\n",
    "    \n",
    "#second, a function that returns the Region of Interest or 'ROI', which is cropped image that no longer \n",
    "#contains areas we aren't interested in.\n",
    "#in this case, we're throwing out the top 40% of the image, but keeping all the width\n",
    "\n",
    "def roi(image):\n",
    "    rows,cols = image.shape[:2]\n",
    "    copy = image.copy()\n",
    "    z = blank(image)\n",
    "    copy[:round(rows*0.4),:] = z[:round(rows*0.4),:]\n",
    "    return copy"
   ]
  },
  {
   "cell_type": "code",
   "execution_count": null,
   "metadata": {
    "collapsed": false
   },
   "outputs": [],
   "source": [
    "#lets operate on our color selected image and see what we get\n",
    "focus = roi(cselect)\n",
    "cv2.imwrite('ROI.jpg', focus)\n"
   ]
  },
  {
   "cell_type": "code",
   "execution_count": null,
   "metadata": {
    "collapsed": false
   },
   "outputs": [],
   "source": [
    "\"\"\"Ok, now we've got some nice lines to detect!  Next, we'll apply a Hough Transform to find lines in our \n",
    "edge-detected image.  The Hough transform can be used to detect various shapes in an image, but here we'll\n",
    "use it to detect lines (more on the 'how' to come...  We'll write another couple functions here to perform \n",
    "the Hough transform and then draw the detected lines back onto our original image.\"\"\"\n",
    "\n",
    "#HERE THE STUDENT WILL NEED TO PLAY WITH THE HOUGH TRANSFORM PARAMETERS TO GET A REASONABLE RESULT\n",
    "\n",
    "def houghLinesP(image, edges):\n",
    "    minLineLength = 100\n",
    "    maxLineGap = 10 \n",
    "    lines = cv2.HoughLinesP(edges,1,np.pi/180,10,minLineLength,maxLineGap)\n",
    "    drawLane(image, lines)\n",
    "    return lines\n",
    "    \n",
    "def drawLane(image, lines):\n",
    "    if lines is not None:\n",
    "        for line in lines:\n",
    "            for x1,y1,x2,y2 in line:\n",
    "                cv2.line(image,(x1,y1),(x2,y2),(0,0,255),10)\n",
    "    return\n",
    "\n",
    "\n",
    "hough = blank(image)\n",
    "lines = houghLinesP(hough, focus)\n",
    "lineImage = cv2.bitwise_or(image, roi(hough))\n",
    "\n",
    "cv2.imwrite('lineImage.jpg', lineImage)\n"
   ]
  },
  {
   "cell_type": "code",
   "execution_count": null,
   "metadata": {
    "collapsed": false
   },
   "outputs": [],
   "source": [
    "\"\"\"Ok, now we've got some nice line detections!  Clearly, some of the detections are our lane lines, but we've\n",
    "picked up some other stuff as well.  Now we need to figure out how to select lane lines only from detected lines\n",
    "and plot out the full lane on the image.  To do this let's start by investigating the slope of the lines\"\"\"\n",
    "\n",
    "#our output 'lines' from above contains the x and y endpoints of all detected lines\n",
    "#we'll use matplotlib to look at the slope distribution\n",
    "\n",
    "#HERE THE STUDENT WILL NEED TO LOOK AT THE SLOPE HISTOGRAM (OR WHATEVER ELSE THEY LIKE) AND DETERMINE A SLOPE CUTOFF\n",
    "import matplotlib.pyplot as plt\n",
    "%matplotlib inline\n",
    "\n",
    "x1,y1,x2,y2 = lines[:,0,0], lines[:,0,1], lines[:,0,2], lines[:,0,3]\n",
    "slopes = (y2-y1)/(x2-x1) #rise over run\n",
    "\n",
    "slope_hist = plt.hist(slopes)\n"
   ]
  },
  {
   "cell_type": "code",
   "execution_count": null,
   "metadata": {
    "collapsed": false
   },
   "outputs": [],
   "source": [
    "\"\"\"Ok, so we've got slopes concentrated around 3 values, namely, around 0, and +/- 0.8.  We could investigate\n",
    "deeper, but just looking at the image we can see that most of the stuff we don't want are probably the \n",
    "concentration of slope values near 0.  So lets impose a restriction on which lines we're going to draw based\n",
    "on slope... To do this we'll redefine our drawLane function\"\"\"\n",
    "\n",
    "slopeCut = 0.7 #student will change this value\n",
    "\n",
    "def drawLane(image, lines):\n",
    "    if lines is not None:\n",
    "        for line in lines:\n",
    "            for x1,y1,x2,y2 in line:\n",
    "                rise = y2 - y1\n",
    "                run = x2 - x1\n",
    "                if run != 0:\n",
    "                    slope = float(rise / run)\n",
    "                    if np.absolute(slope) > slopeCut: #here's our new slope criterion\n",
    "                        cv2.line(image,(x1,y1),(x2,y2),(0,0,255),10)\n",
    "    return\n",
    "\n",
    "hough = blank(image)\n",
    "lines = houghLinesP(hough, focus)\n",
    "lineImage = cv2.bitwise_or(image, roi(hough))\n",
    "\n",
    "cv2.imwrite('lineImage2.jpg', lineImage)\n"
   ]
  },
  {
   "cell_type": "code",
   "execution_count": null,
   "metadata": {
    "collapsed": false
   },
   "outputs": [],
   "source": [
    "\"\"\"So, now we've got our lane lines identified, and we'd like to draw an estimate of where the lane is on the\n",
    "image.  To do this, we could be clever and try to stitch together all the deteted line segments in a curve, but \n",
    "for now we'll just keep it simple and grab one line segment from each side of the lane and extrapolate up and \n",
    "down the road (since the lines are approximately straight). Again, we'll redefine our drawLanes function\n",
    "and our houghLinesP to include one more parameter...\"\"\"\n",
    "\n",
    "#HERE I'M NOT SURE WHAT TO HAVE THE STUDENT DO, BUT MAYBE FIGURE OUT THEIR OWN WAY OF DRAWING THE LINES BETTER\n",
    "\n",
    "def houghLinesP(image, edges):\n",
    "    minLineLength = 100\n",
    "    maxLineGap = 10 \n",
    "    lines = cv2.HoughLinesP(edges,1,np.pi/180,10,minLineLength,maxLineGap)\n",
    "    drawLane(image, lines, 0)\n",
    "    drawLane(image, lines, 1)\n",
    "    return lines\n",
    "    \n",
    "def drawLane(image, lines, side):\n",
    "    if lines is not None:\n",
    "        for line in lines:\n",
    "            for x1,y1,x2,y2 in line:\n",
    "                y3 = 0\n",
    "                y4 = 1000\n",
    "                rise = y2 - y1\n",
    "                run = x2 - x1\n",
    "                if run != 0:\n",
    "                    slope = float(rise / run)\n",
    "                    if np.absolute(slope) > 0.6:\n",
    "                        b = float(y1 - slope * x1) #y=mx+b\n",
    "                        x3 = int((y3 - b) / slope)\n",
    "                        x4 = int((y4 - b) / slope)\n",
    "                    \n",
    "                        if (slope > 0.6 and side == 0) or (slope < 0.6 and side == 1):\n",
    "                            cv2.line(image,(x3,y3),(x4,y4),(0,0,255),10)\n",
    "                            return\n",
    "\n",
    "hough = blank(image)\n",
    "lines = houghLinesP(hough, focus)\n",
    "lineImage = cv2.bitwise_or(image, roi(hough))\n",
    "\n",
    "cv2.imwrite('lineImage3.jpg', lineImage)\n"
   ]
  },
  {
   "cell_type": "code",
   "execution_count": null,
   "metadata": {
    "collapsed": false
   },
   "outputs": [],
   "source": [
    "\"\"\"Ok awesome!  We're mapping out the lane!  Now let's try it on a video stream. To do this, let's gather all \n",
    "the code into one place so this cell can be run independent of the rest of the notebook, or copied and pasted\n",
    "to somewhere else.\"\"\"\n",
    "\n",
    "#HERE AGAIN, NOT SURE WHAT TO HAVE THE STUDENT DO, BUT IF THIS IS AN EVALUATED PROJECT, THEY COULD SUBMIT\n",
    "#SUGGESTIONS ABOUT HOW TO IMPROVE THE ALGORITHM.  \n",
    "\n",
    "import cv2\n",
    "import numpy as np\n",
    "\n",
    "def color_select(image):\n",
    "    lower_white = np.array([165,165,165], dtype=np.uint8)\n",
    "    upper_white = np.array([245,245,245], dtype=np.uint8)\n",
    "    selected = cv2.inRange(image, lower_white, upper_white)\n",
    "    return selected\n",
    "\n",
    "def blank(image):\n",
    "    rows,cols = image.shape[:2]\n",
    "    if len(image.shape) == 2:\n",
    "        return np.zeros((rows, cols), np.uint8)\n",
    "    else:\n",
    "        return np.zeros((rows, cols, 3), np.uint8)\n",
    "\n",
    "def roi(image):\n",
    "    rows,cols = image.shape[:2]\n",
    "    copy = image.copy()\n",
    "    z = blank(image)\n",
    "    copy[:round(rows*0.4),:] = z[:round(rows*0.4),:]\n",
    "    return copy\n",
    "\n",
    "def houghLinesP(image, edges):\n",
    "    minLineLength = 100\n",
    "    maxLineGap = 10 \n",
    "    lines = cv2.HoughLinesP(edges,1,np.pi/180,10,minLineLength,maxLineGap)\n",
    "    drawLane(image, lines, 0)\n",
    "    drawLane(image, lines, 1)\n",
    "    return lines\n",
    "    \n",
    "def drawLane(image, lines, side):\n",
    "    slopeCut = 0.7\n",
    "    if lines is not None:\n",
    "        for line in lines:\n",
    "            for x1,y1,x2,y2 in line:\n",
    "                y3 = 0\n",
    "                y4 = 1000\n",
    "                rise = y2 - y1\n",
    "                run = x2 - x1\n",
    "                if run != 0:\n",
    "                    slope = float(rise / run)\n",
    "                    if np.absolute(slope) > slopeCut:\n",
    "                        b = float(y1 - slope * x1) #y=mx+b\n",
    "                        x3 = int((y3 - b) / slope)\n",
    "                        x4 = int((y4 - b) / slope)\n",
    "                    \n",
    "                        if (slope > slopeCut and side == 0) or (slope < slopeCut and side == 1):\n",
    "                            cv2.line(image,(x3,y3),(x4,y4),(0,0,255),10)\n",
    "                            return\n",
    "\n",
    "                        \n",
    "cv2.startWindowThread()\n",
    "cv2.namedWindow('Lane-Finding')\n",
    "cap = cv2.VideoCapture('P0_video.mp4')\n",
    "\n",
    "while cap.isOpened():\n",
    "\n",
    "    ret, image = cap.read()\n",
    "    if image is not None:\n",
    "        cselect = color_select(image)\n",
    "        focus = roi(cselect)\n",
    "        hough = blank(image)\n",
    "        houghLinesP(hough, focus)\n",
    "        final = cv2.bitwise_or(image, roi(hough))\n",
    "        cv2.imshow('Lane-Finding',final)\n",
    "    else:\n",
    "        break\n",
    "        \n",
    "    k = cv2.waitKey(30) & 0xff\n",
    "    if k == 27 :\n",
    "        break\n",
    "\n",
    "cap.release()\n",
    "cv2.destroyAllWindows()"
   ]
  },
  {
   "cell_type": "code",
   "execution_count": null,
   "metadata": {
    "collapsed": false
   },
   "outputs": [],
   "source": [
    "\"\"\"Fantastic!  It kinda works!  Clearly, however, our algorithm is still a bit unstable and could use \n",
    "further improvement.  So things to think about going forward are: how can we stabilize the lane detection \n",
    "further?  Where does it fail the worst?  What will we need to take into account going forward \n",
    "with lane detection?\"\"\""
   ]
  }
 ],
 "metadata": {
  "anaconda-cloud": {},
  "kernelspec": {
   "display_name": "Python [Root]",
   "language": "python",
   "name": "Python [Root]"
  },
  "language_info": {
   "codemirror_mode": {
    "name": "ipython",
    "version": 3
   },
   "file_extension": ".py",
   "mimetype": "text/x-python",
   "name": "python",
   "nbconvert_exporter": "python",
   "pygments_lexer": "ipython3",
   "version": "3.5.2"
  }
 },
 "nbformat": 4,
 "nbformat_minor": 0
}
